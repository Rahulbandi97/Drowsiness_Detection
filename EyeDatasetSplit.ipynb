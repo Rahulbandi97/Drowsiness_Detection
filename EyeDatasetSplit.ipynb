{
  "nbformat": 4,
  "nbformat_minor": 0,
  "metadata": {
    "colab": {
      "provenance": [],
      "gpuType": "T4"
    },
    "kernelspec": {
      "name": "python3",
      "display_name": "Python 3"
    },
    "language_info": {
      "name": "python"
    },
    "accelerator": "GPU"
  },
  "cells": [
    {
      "cell_type": "code",
      "execution_count": null,
      "metadata": {
        "colab": {
          "base_uri": "https://localhost:8080/"
        },
        "id": "CGx8Sw9Ko_5K",
        "outputId": "f1246f23-a0de-4fae-d6dc-60d42ec58c40"
      },
      "outputs": [
        {
          "output_type": "stream",
          "name": "stdout",
          "text": [
            "Mounted at /content/drive\n"
          ]
        }
      ],
      "source": [
        "import os\n",
        "import shutil\n",
        "import glob\n",
        "from tqdm import tqdm\n",
        "\n",
        "from google.colab import drive\n",
        "drive.mount('/content/drive')"
      ]
    },
    {
      "cell_type": "code",
      "source": [
        "Raw_DIR = r\"/content/drive/MyDrive/DrowsinessDetection/Main_Data_Set/mrlEyes_2018_01\"\n",
        "\n",
        "for dirpath, dirname, filenames in os.walk(Raw_DIR):\n",
        "    for i in tqdm([f for f in filenames if f.endswith('png')]):\n",
        "        if i.split('_')[4] == '0':\n",
        "            shutil.copy(src = dirpath + '/' + i, dst = r\"/content/drive/MyDrive/DrowsinessDetection/Main_Data_Set/Closed_Eyes\")\n",
        "\n",
        "        elif i.split('_')[4] == '1':\n",
        "            shutil.copy(src = dirpath + '/' + i, dst = r\"/content/drive/MyDrive/DrowsinessDetection/Main_Data_Set/Open_Eyes\")\n"
      ],
      "metadata": {
        "colab": {
          "base_uri": "https://localhost:8080/"
        },
        "id": "3uEL52uEpYBL",
        "outputId": "da6ff506-e9c9-401a-9866-25b311492cee"
      },
      "execution_count": null,
      "outputs": [
        {
          "output_type": "stream",
          "name": "stderr",
          "text": [
            "0it [00:00, ?it/s]\n",
            "100%|██████████| 1384/1384 [00:27<00:00, 50.37it/s] \n",
            "100%|██████████| 739/739 [00:12<00:00, 57.83it/s] \n",
            "100%|██████████| 681/681 [00:10<00:00, 64.50it/s] \n",
            "100%|██████████| 736/736 [00:12<00:00, 61.12it/s] \n",
            "100%|██████████| 10257/10257 [03:22<00:00, 50.63it/s] \n",
            "100%|██████████| 1738/1738 [00:29<00:00, 59.73it/s] \n",
            "100%|██████████| 6162/6162 [02:08<00:00, 48.10it/s] \n",
            "100%|██████████| 642/642 [00:09<00:00, 68.72it/s] \n",
            "100%|██████████| 6193/6193 [03:10<00:00, 32.57it/s] \n",
            "100%|██████████| 1393/1393 [00:22<00:00, 61.11it/s] \n",
            "100%|██████████| 1502/1502 [00:24<00:00, 60.10it/s] \n",
            "100%|██████████| 752/752 [00:11<00:00, 63.83it/s] \n",
            "100%|██████████| 704/704 [00:10<00:00, 67.42it/s] \n",
            "100%|██████████| 1246/1246 [00:27<00:00, 44.81it/s] \n",
            "100%|██████████| 522/522 [00:07<00:00, 74.33it/s] \n",
            "100%|██████████| 6175/6175 [02:09<00:00, 47.56it/s] \n",
            "100%|██████████| 4410/4410 [01:40<00:00, 43.93it/s] \n",
            "100%|██████████| 382/382 [00:05<00:00, 74.79it/s] \n",
            "100%|██████████| 665/665 [00:09<00:00, 70.43it/s] \n",
            "100%|██████████| 987/987 [00:15<00:00, 65.15it/s] \n",
            "100%|██████████| 8728/8728 [03:57<00:00, 36.76it/s] \n",
            "100%|██████████| 1658/1658 [00:25<00:00, 65.69it/s] \n",
            "100%|██████████| 1889/1889 [00:38<00:00, 49.37it/s] \n",
            "100%|██████████| 1648/1648 [00:29<00:00, 55.33it/s] \n",
            "100%|██████████| 399/399 [00:05<00:00, 79.67it/s] \n",
            "100%|██████████| 8884/8884 [03:16<00:00, 45.18it/s] \n",
            "100%|██████████| 387/387 [00:04<00:00, 81.38it/s] \n",
            "100%|██████████| 1132/1132 [00:18<00:00, 62.28it/s] \n",
            "100%|██████████| 3605/3605 [01:06<00:00, 53.88it/s] \n",
            "100%|██████████| 832/832 [00:13<00:00, 61.97it/s] \n",
            "100%|██████████| 1012/1012 [00:16<00:00, 60.17it/s] \n",
            "100%|██████████| 1114/1114 [00:18<00:00, 61.70it/s] \n",
            "100%|██████████| 624/624 [00:08<00:00, 73.46it/s] \n",
            "100%|██████████| 1069/1069 [00:18<00:00, 58.14it/s] \n",
            "100%|██████████| 3242/3242 [01:13<00:00, 44.18it/s] \n",
            "100%|██████████| 679/679 [00:09<00:00, 69.06it/s] \n",
            "100%|██████████| 736/736 [00:10<00:00, 67.21it/s] \n"
          ]
        }
      ]
    }
  ]
}